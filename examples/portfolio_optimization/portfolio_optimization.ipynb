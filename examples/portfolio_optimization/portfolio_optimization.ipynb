{
 "cells": [
  {
   "cell_type": "markdown",
   "id": "f4d8055a",
   "metadata": {},
   "source": [
    "# Portfolio Optimization Through Divi"
   ]
  },
  {
   "cell_type": "markdown",
   "id": "50fa587b",
   "metadata": {},
   "source": [
    "## Data Preparation"
   ]
  },
  {
   "cell_type": "code",
   "execution_count": 1,
   "id": "37a632f2",
   "metadata": {},
   "outputs": [],
   "source": [
    "import numpy as np\n",
    "from sklearn.preprocessing import MinMaxScaler, StandardScaler\n",
    "import matplotlib.pyplot as plt"
   ]
  },
  {
   "cell_type": "markdown",
   "id": "07cf7c8e",
   "metadata": {},
   "source": [
    "### Loading the Raw Data"
   ]
  },
  {
   "cell_type": "code",
   "execution_count": 2,
   "id": "e6947145",
   "metadata": {},
   "outputs": [],
   "source": [
    "full_returns = np.load(\"1_2016-01-01_returns.npy\")\n",
    "correlation_matrix = np.load(\"1_2016-01-01_correlation.npy\")\n",
    "covariance_matrix = np.load(\"1_2016-01-01_covariance.npy\")"
   ]
  },
  {
   "cell_type": "code",
   "execution_count": 3,
   "id": "9774d07e",
   "metadata": {},
   "outputs": [],
   "source": [
    "scaled_full_returns = (\n",
    "    MinMaxScaler().fit_transform(full_returns.reshape(-1, 1)).flatten()\n",
    ")\n",
    "\n",
    "scaled_covariance_matrix = StandardScaler().fit_transform(covariance_matrix)\n",
    "\n",
    "scaled_correlation_matrix = MinMaxScaler().fit_transform(correlation_matrix)"
   ]
  },
  {
   "cell_type": "markdown",
   "id": "972140db",
   "metadata": {},
   "source": [
    "### Partitioning Data"
   ]
  },
  {
   "cell_type": "code",
   "execution_count": 4,
   "id": "135a8a59",
   "metadata": {},
   "outputs": [],
   "source": [
    "from modularity_spectral_partitioning import modularity_spectral_threshold\n",
    "from collections import Counter"
   ]
  },
  {
   "cell_type": "code",
   "execution_count": 5,
   "id": "c68109c7",
   "metadata": {},
   "outputs": [],
   "source": [
    "partitions = modularity_spectral_threshold(\n",
    "    scaled_correlation_matrix, threshold=20, return_communities=False\n",
    ")\n",
    "\n",
    "partition_counts = Counter(partitions)"
   ]
  },
  {
   "cell_type": "code",
   "execution_count": 6,
   "id": "aa9c6c11",
   "metadata": {},
   "outputs": [
    {
     "data": {
      "image/png": "[encoded data removed]",
      "text/plain": [
       "<Figure size 640x480 with 1 Axes>"
      ]
     },
     "metadata": {},
     "output_type": "display_data"
    }
   ],
   "source": [
    "plt.bar(\n",
    "    *list(zip(*partition_counts.items()))\n",
    ")  # A little python Magic to unfurl the dictionary\n",
    "\n",
    "plt.yticks(list(partition_counts.values()))\n",
    "plt.xlabel(\"Cluster Labels\")\n",
    "plt.ylabel(\"Number of elements\")\n",
    "plt.title(\"Modified Partition Counts\")\n",
    "plt.axhline(y=20, color=\"r\", linestyle=\"dotted\")\n",
    "plt.show()"
   ]
  },
  {
   "cell_type": "code",
   "execution_count": 7,
   "id": "14e0ccfe",
   "metadata": {},
   "outputs": [],
   "source": [
    "partitioned_covariance_matrices = {}\n",
    "partitioned_returns = {}\n",
    "\n",
    "for cluster_label in np.unique(partitions):\n",
    "    cluster_indices = np.where(partitions == cluster_label)[0]\n",
    "    partitioned_covariance_matrices[cluster_label.item()] = scaled_covariance_matrix[\n",
    "        np.ix_(cluster_indices, cluster_indices)\n",
    "    ]\n",
    "    partitioned_returns[cluster_label.item()] = scaled_full_returns[cluster_indices]"
   ]
  },
  {
   "cell_type": "markdown",
   "id": "5a207518",
   "metadata": {},
   "source": [
    "## Solving Using QAOA"
   ]
  },
  {
   "cell_type": "code",
   "execution_count": 8,
   "id": "fafffe6b",
   "metadata": {},
   "outputs": [],
   "source": [
    "import pennylane as qml\n",
    "from pennylane import numpy as pnp\n",
    "from divi.qprog import QAOA\n",
    "from divi.qprog.optimizers import Optimizers\n",
    "\n",
    "try:\n",
    "    import dimod\n",
    "except ImportError:\n",
    "    raise ImportError(\n",
    "        \"This notebook requires the 'dimod' package. \"\n",
    "        \"Please install it with:\\n\"\n",
    "        \"    pip install dimod\"\n",
    "    )"
   ]
  },
  {
   "cell_type": "code",
   "execution_count": 9,
   "id": "adef82cc",
   "metadata": {},
   "outputs": [],
   "source": [
    "def evaluate_solution(\n",
    "    partition_id: int,\n",
    "    partitioned_returns_dict: dict[int, np.ndarray],\n",
    "    partitioned_covariance_dict: dict[int, np.ndarray],\n",
    "    qaoa_solution: np.ndarray,\n",
    "):\n",
    "    qubo_vector = partitioned_returns_dict[partition_id]\n",
    "    qubo_matrix = partitioned_covariance_dict[partition_id]\n",
    "\n",
    "    if np.array_equal(qubo_vector, np.diagonal(qubo_matrix)):\n",
    "        np.fill_diagonal(qubo_matrix, qubo_vector)\n",
    "\n",
    "    if not np.allclose(qubo_matrix, qubo_matrix.T):\n",
    "        qubo_matrix = (qubo_matrix + qubo_matrix.T) / 2\n",
    "\n",
    "    bqm = dimod.BinaryQuadraticModel(qubo_matrix, \"BINARY\")\n",
    "    best_classical_bitstring, best_classical_energy, _ = (\n",
    "        dimod.ExactSolver().sample(bqm).lowest().record[0]\n",
    "    )\n",
    "\n",
    "    print(f\"Is Correct? {np.array_equal(best_classical_bitstring, qaoa_solution)}\")\n",
    "    print(f\"Optimal Classical Energy: {best_classical_energy}\")\n",
    "    print(f\"QAOA Energy: {bqm.energy(qaoa_solution)}\")\n",
    "    print(f\"Optimal Classical Bitstring: {best_classical_bitstring}\")\n",
    "    print(f\"QAOA Bitstring: {qaoa_solution}\")"
   ]
  },
  {
   "cell_type": "code",
   "execution_count": 10,
   "id": "cc7fb586",
   "metadata": {},
   "outputs": [],
   "source": [
    "partition_id = 18"
   ]
  },
  {
   "cell_type": "markdown",
   "id": "86413804",
   "metadata": {},
   "source": [
    "### PennyLane Circuit"
   ]
  },
  {
   "cell_type": "code",
   "execution_count": 11,
   "id": "fa4f2d66",
   "metadata": {},
   "outputs": [],
   "source": [
    "def _solve_qubo(qubo_vector, qubo_matrix, depth):\n",
    "    wires = range(len(qubo_vector))\n",
    "    params = pnp.random.rand(2, depth)  # gamma and alpha parameters\n",
    "\n",
    "    def circuit(params):\n",
    "        # Initial State\n",
    "        for w in wires:\n",
    "            qml.Hadamard(wires=w)\n",
    "\n",
    "        ##############################################\n",
    "\n",
    "        gamma = params[0]\n",
    "        alpha = params[1]\n",
    "\n",
    "        for d in range(depth):\n",
    "            # Cost Hamiltonian\n",
    "            for qubit in range(len(qubo_vector)):\n",
    "                theta = qubo_vector[qubit] * gamma[d]\n",
    "                qml.RZ(theta, wires=qubit)\n",
    "\n",
    "            for j in range(len(qubo_matrix)):\n",
    "                for k in range(len(qubo_matrix)):\n",
    "                    if j != k:\n",
    "                        theta = qubo_matrix[j, k] * gamma[d]\n",
    "                        qml.CRZ(theta, wires=[j, k])\n",
    "\n",
    "            # Mixer Hamiltonian\n",
    "            for qubit in range(len(qubo_vector)):\n",
    "                theta = 2 * alpha[d]\n",
    "                qml.RX(theta, wires=qubit)\n",
    "\n",
    "            qml.Barrier(wires=wires)\n",
    "\n",
    "        ##############################################\n",
    "\n",
    "    dev = qml.device(\"default.qubit\", wires=len(qubo_vector))\n",
    "\n",
    "    def cost_h(qubo_vector):\n",
    "        cost_h = qml.PauliZ(0)\n",
    "        for i in range(1, len(qubo_vector)):\n",
    "            cost_h = cost_h @ qml.PauliZ(i)\n",
    "        return cost_h\n",
    "\n",
    "    @qml.qnode(dev)\n",
    "    def cost_function(params):\n",
    "        circuit(params)\n",
    "        return qml.expval(cost_h(qubo_vector))\n",
    "\n",
    "    optimizer = qml.GradientDescentOptimizer()\n",
    "    steps = 70\n",
    "\n",
    "    for _ in range(steps):\n",
    "        params = optimizer.step(cost_function, params)\n",
    "\n",
    "    expected_value = cost_function(params)\n",
    "\n",
    "    @qml.qnode(dev)\n",
    "    def probability_circuit(gamma, alpha):\n",
    "        circuit([gamma, alpha])\n",
    "        return qml.probs(wires=wires)\n",
    "\n",
    "    probs = probability_circuit(params[0], params[1])\n",
    "\n",
    "    def int_to_binary(n, wires):\n",
    "        return bin(n)[2:].zfill(len(wires))\n",
    "\n",
    "    max_index = qml.numpy.argmax(probs)\n",
    "    max_index_int = int(max_index)\n",
    "    bit_representation = int_to_binary(max_index_int, wires)\n",
    "\n",
    "    return bit_representation, expected_value"
   ]
  },
  {
   "cell_type": "code",
   "execution_count": 12,
   "id": "a882f939",
   "metadata": {},
   "outputs": [],
   "source": [
    "def solve_qubo_partition_pennylane(\n",
    "    partition_id: int,\n",
    "    partitioned_returns_dict: dict[int, np.ndarray],\n",
    "    partitioned_covariance_dict: dict[int, np.ndarray],\n",
    "    depth: int = 2,\n",
    "):\n",
    "\n",
    "    qubo_vector = partitioned_returns_dict[partition_id]\n",
    "    qubo_matrix = partitioned_covariance_dict[partition_id]\n",
    "\n",
    "    if np.array_equal(qubo_vector, np.diagonal(qubo_matrix)):\n",
    "        np.fill_diagonal(qubo_matrix, qubo_vector)\n",
    "\n",
    "    pl_result, pl_expval = _solve_qubo(\n",
    "        qubo_vector=qubo_vector,\n",
    "        qubo_matrix=qubo_matrix,\n",
    "        depth=depth,\n",
    "    )\n",
    "    \n",
    "    return pl_result, pl_expval"
   ]
  },
  {
   "cell_type": "code",
   "execution_count": 13,
   "id": "7d18ba95",
   "metadata": {},
   "outputs": [],
   "source": [
    "pl_solution, _ = solve_qubo_partition_pennylane(\n",
    "    partition_id,\n",
    "    partitioned_returns_dict=partitioned_returns,\n",
    "    partitioned_covariance_dict=partitioned_covariance_matrices,\n",
    ")"
   ]
  },
  {
   "cell_type": "code",
   "execution_count": 14,
   "id": "9850bb7b",
   "metadata": {},
   "outputs": [
    {
     "name": "stdout",
     "output_type": "stream",
     "text": [
      "Is Correct? False\n",
      "Optimal Classical Energy: 0.0\n",
      "QAOA Energy: 64.6085290741706\n",
      "Optimal Classical Bitstring: [0 0 0 0 0 0 0 0 0 0 0 0]\n",
      "QAOA Bitstring: [1 1 1 1 0 1 0 0 0 0 0 0]\n"
     ]
    }
   ],
   "source": [
    "evaluate_solution(\n",
    "    partition_id,\n",
    "    partitioned_returns_dict=partitioned_returns,\n",
    "    partitioned_covariance_dict=partitioned_covariance_matrices,\n",
    "    qaoa_solution=np.fromiter(pl_solution, dtype=int),\n",
    ")"
   ]
  },
  {
   "cell_type": "markdown",
   "id": "bb187b45",
   "metadata": {},
   "source": [
    "### Divi API"
   ]
  },
  {
   "cell_type": "code",
   "execution_count": 15,
   "id": "78bb7814",
   "metadata": {},
   "outputs": [],
   "source": [
    "def solve_qubo_partition_divi(\n",
    "    partition_id: int,\n",
    "    partitioned_returns_dict: dict[int, np.ndarray],\n",
    "    partitioned_covariance_dict: dict[int, np.ndarray],\n",
    "    depth: int = 2,\n",
    "):\n",
    "    qubo_vector = partitioned_returns_dict[partition_id]\n",
    "    qubo_matrix = partitioned_covariance_dict[partition_id]\n",
    "\n",
    "    if np.array_equal(qubo_vector, np.diagonal(qubo_matrix)):\n",
    "        np.fill_diagonal(qubo_matrix, qubo_vector)\n",
    "\n",
    "    qaoa_problem = QAOA(\n",
    "        problem=qubo_matrix,\n",
    "        n_layers=depth,\n",
    "        optimizer=Optimizers.NELDER_MEAD,\n",
    "        max_iterations=10,\n",
    "        shots=10000,\n",
    "        qoro_service=None,\n",
    "    )\n",
    "\n",
    "    qaoa_problem.run()\n",
    "    qaoa_problem.compute_final_solution()\n",
    "\n",
    "    return qaoa_problem.solution"
   ]
  },
  {
   "cell_type": "code",
   "execution_count": 16,
   "id": "8d52a138",
   "metadata": {},
   "outputs": [
    {
     "name": "stderr",
     "output_type": "stream",
     "text": [
      "/home/shiro-raven/Desktop/Qoro/divi/divi/utils.py:238: UserWarning: The QUBO matrix is neither symmetric nor upper triangular. Symmetrizing it for the Ising Hamiltonian creation.\n",
      "  warn(\n",
      "2025-05-05 22:40:13,021 - divi.qprog.quantum_program - DEBUG - Finished iteration 0\n",
      "2025-05-05 22:40:46,956 - divi.qprog.quantum_program - DEBUG - Finished iteration 1\n",
      "2025-05-05 22:41:16,305 - divi.qprog.quantum_program - DEBUG - Finished iteration 2\n",
      "2025-05-05 22:41:21,034 - divi.qprog.quantum_program - DEBUG - Finished iteration 3\n",
      "2025-05-05 22:41:25,750 - divi.qprog.quantum_program - DEBUG - Finished iteration 4\n",
      "2025-05-05 22:41:34,992 - divi.qprog.quantum_program - DEBUG - Finished iteration 5\n",
      "2025-05-05 22:41:44,194 - divi.qprog.quantum_program - DEBUG - Finished iteration 6\n",
      "2025-05-05 22:41:48,772 - divi.qprog.quantum_program - DEBUG - Finished iteration 7\n",
      "2025-05-05 22:41:53,440 - divi.qprog.quantum_program - DEBUG - Finished iteration 8\n",
      "2025-05-05 22:42:02,652 - divi.qprog.quantum_program - DEBUG - Finished iteration 9\n"
     ]
    }
   ],
   "source": [
    "divi_solution = solve_qubo_partition_divi(\n",
    "    partition_id,\n",
    "    partitioned_returns_dict=partitioned_returns,\n",
    "    partitioned_covariance_dict=partitioned_covariance_matrices,\n",
    ")"
   ]
  },
  {
   "cell_type": "code",
   "execution_count": 17,
   "id": "e216b818",
   "metadata": {},
   "outputs": [
    {
     "name": "stdout",
     "output_type": "stream",
     "text": [
      "Is Correct? False\n",
      "Optimal Classical Energy: 0.0\n",
      "QAOA Energy: 72.78368826995164\n",
      "Optimal Classical Bitstring: [0 0 0 0 0 0 0 0 0 0 0 0]\n",
      "QAOA Bitstring: [1 0 1 1 1 0 0 0 0 1 0 1]\n"
     ]
    }
   ],
   "source": [
    "evaluate_solution(\n",
    "    partition_id,\n",
    "    partitioned_returns_dict=partitioned_returns,\n",
    "    partitioned_covariance_dict=partitioned_covariance_matrices,\n",
    "    qaoa_solution=divi_solution,\n",
    ")"
   ]
  },
  {
   "cell_type": "code",
   "execution_count": null,
   "id": "1bc779a3",
   "metadata": {},
   "outputs": [],
   "source": []
  }
 ],
 "metadata": {
  "kernelspec": {
   "display_name": "qoro-dev",
   "language": "python",
   "name": "python3"
  },
  "language_info": {
   "codemirror_mode": {
    "name": "ipython",
    "version": 3
   },
   "file_extension": ".py",
   "mimetype": "text/x-python",
   "name": "python",
   "nbconvert_exporter": "python",
   "pygments_lexer": "ipython3",
   "version": "3.11.12"
  }
 },
 "nbformat": 4,
 "nbformat_minor": 5
}
